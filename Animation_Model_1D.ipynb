{
 "cells": [
  {
   "cell_type": "code",
   "execution_count": null,
   "id": "e08f2398",
   "metadata": {},
   "outputs": [],
   "source": [
    "import numpy as np\n",
    "import pandas as pd\n",
    "import matplotlib.pyplot as plt\n",
    "\n",
    "# For animation\n",
    "from matplotlib.animation import FuncAnimation\n",
    "from celluloid import Camera"
   ]
  },
  {
   "cell_type": "code",
   "execution_count": null,
   "id": "5964f705",
   "metadata": {},
   "outputs": [],
   "source": [
    "df = pd.read_csv(\"dataset_spiketimes_model1d.dat\", sep = '\\t', header = None)\n",
    "\n",
    "\n",
    "data_start = 10.4 # in s\n",
    "data_end = 13.4 # in s\n",
    "\n",
    "df = df.drop(df[df[0] < data_start].index)\n",
    "df = df.drop(df[df[0] > data_end].index)\n",
    "\n",
    "df.index = range(len(df[0])) # recreate indexes from 0 to ...\n",
    "\n",
    "df[0] = df[0].round(decimals = 4)"
   ]
  },
  {
   "cell_type": "code",
   "execution_count": null,
   "id": "750f1218",
   "metadata": {},
   "outputs": [],
   "source": [
    "%matplotlib notebook"
   ]
  },
  {
   "cell_type": "code",
   "execution_count": null,
   "id": "f189a91f",
   "metadata": {},
   "outputs": [],
   "source": [
    "plt.figure()\n",
    "plt.plot(df[0],df[1],'.')\n",
    "# plt.xlim([10,20])\n",
    "plt.show()"
   ]
  },
  {
   "cell_type": "code",
   "execution_count": null,
   "id": "d11fa0d6",
   "metadata": {
    "scrolled": false
   },
   "outputs": [],
   "source": [
    "# Animation\n",
    "\n",
    "movie_duration = 2\n",
    "fps = 1\n",
    "\n",
    "len_data = len(df[0])\n",
    "\n",
    "\n",
    "fig = plt.figure()\n",
    "\n",
    "camera = Camera(fig)\n",
    "frame_density = (len_data / (movie_duration * fps))\n",
    "\n",
    "weights_colormap = plt.get_cmap(\"Blues\")\n",
    "\n",
    "\n",
    "density = 100\n",
    "\n",
    "for i in range(0,len_data-(density),density):\n",
    "    \n",
    "    plt.plot(df[0][0:(i+density)], df[1][0:(i+density)], '.', color = weights_colormap(30))\n",
    "    plt.plot(df[0][i:(i+density)], df[1][i:(i+density)], '.', color = weights_colormap(200))\n",
    "\n",
    "    camera.snap()"
   ]
  },
  {
   "cell_type": "code",
   "execution_count": null,
   "id": "988db831",
   "metadata": {},
   "outputs": [],
   "source": [
    "animation = camera.animate()"
   ]
  },
  {
   "cell_type": "code",
   "execution_count": null,
   "id": "a6f2c93b",
   "metadata": {},
   "outputs": [],
   "source": [
    "# animation.save('test1D.mp4', dpi = 300, fps = fps)"
   ]
  },
  {
   "cell_type": "code",
   "execution_count": null,
   "id": "26692bec",
   "metadata": {},
   "outputs": [],
   "source": [
    "from IPython.display import HTML\n",
    "HTML(animation.to_html5_video())"
   ]
  },
  {
   "cell_type": "code",
   "execution_count": null,
   "id": "05fb0c31",
   "metadata": {},
   "outputs": [],
   "source": []
  },
  {
   "cell_type": "code",
   "execution_count": null,
   "id": "c1fbd909",
   "metadata": {},
   "outputs": [],
   "source": [
    "# Arnau Manasanch (github: @arnaumanasanch) contribution: \n",
    "\n",
    "%matplotlib notebook\n",
    "import ipywidgets as widgets\n",
    "import asyncio\n",
    "import matplotlib.pyplot as plt\n",
    "steps = 200\n",
    "tail = 3\n",
    "step_times = np.linspace(df[0].values[0], df[0].values[-1], steps)\n",
    "dt = np.mean(np.diff(step_times))\n",
    "fig, ax = plt.subplots(figsize=(10, 6))\n",
    "points = ax.scatter([],[],c='tab:blue', marker='.')\n",
    "ax.set_xlim([df[0].values[0], df[0].values[-1]])\n",
    "ax.set_ylim([0, 1024])\n",
    "for t in step_times:\n",
    "    # get neurons within the tail time\n",
    "    df_tail = df.loc[(df[0]>t-tail) & (df[0]<=t), [0, 1]]\n",
    "    neurons = np.zeros(len(df_tail))\n",
    "    for n in range(len(df_tail)):\n",
    "        neurons[n] = t - df_tail[0].iloc[n]\n",
    "    if np.sum(neurons) == 0:\n",
    "        neurons += 1\n",
    "    else:\n",
    "        neurons = (neurons - np.min(neurons)) / (np.max(neurons) - np.min(neurons))\n",
    "    neurons = 1-neurons\n",
    "    neurons[neurons<0.2] = 0.2\n",
    "    points.set_offsets(np.array([df_tail[0].values, df_tail[1].values]).T)\n",
    "    points.set_alpha(neurons)\n",
    "#     ax.set_title(t)\n",
    "    fig.canvas.draw()\n",
    "    plt.pause(0.05)"
   ]
  },
  {
   "cell_type": "code",
   "execution_count": null,
   "id": "b696131e",
   "metadata": {},
   "outputs": [],
   "source": []
  }
 ],
 "metadata": {
  "kernelspec": {
   "display_name": "Python 3 (ipykernel)",
   "language": "python",
   "name": "python3"
  },
  "language_info": {
   "codemirror_mode": {
    "name": "ipython",
    "version": 3
   },
   "file_extension": ".py",
   "mimetype": "text/x-python",
   "name": "python",
   "nbconvert_exporter": "python",
   "pygments_lexer": "ipython3",
   "version": "3.9.12"
  }
 },
 "nbformat": 4,
 "nbformat_minor": 5
}
